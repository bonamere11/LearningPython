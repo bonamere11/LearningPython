{
  "nbformat": 4,
  "nbformat_minor": 0,
  "metadata": {
    "colab": {
      "provenance": [],
      "authorship_tag": "ABX9TyN/K0teykse4qCndYBiTGG/",
      "include_colab_link": true
    },
    "kernelspec": {
      "name": "python3",
      "display_name": "Python 3"
    },
    "language_info": {
      "name": "python"
    }
  },
  "cells": [
    {
      "cell_type": "markdown",
      "metadata": {
        "id": "view-in-github",
        "colab_type": "text"
      },
      "source": [
        "<a href=\"https://colab.research.google.com/github/bonamere11/LearningPython/blob/main/ModulePackages.ipynb\" target=\"_parent\"><img src=\"https://colab.research.google.com/assets/colab-badge.svg\" alt=\"Open In Colab\"/></a>"
      ]
    },
    {
      "cell_type": "code",
      "execution_count": 4,
      "metadata": {
        "colab": {
          "base_uri": "https://localhost:8080/"
        },
        "id": "YbYJRLFRxHxN",
        "outputId": "8b8c4e32-e2df-4b8d-b134-ba918d18b4da"
      },
      "outputs": [
        {
          "output_type": "stream",
          "name": "stdout",
          "text": [
            "9.433981132056603\n",
            "Requirement already satisfied: pandas in /usr/local/lib/python3.10/dist-packages (2.1.4)\n",
            "Requirement already satisfied: numpy<2,>=1.22.4 in /usr/local/lib/python3.10/dist-packages (from pandas) (1.26.4)\n",
            "Requirement already satisfied: python-dateutil>=2.8.2 in /usr/local/lib/python3.10/dist-packages (from pandas) (2.8.2)\n",
            "Requirement already satisfied: pytz>=2020.1 in /usr/local/lib/python3.10/dist-packages (from pandas) (2024.2)\n",
            "Requirement already satisfied: tzdata>=2022.1 in /usr/local/lib/python3.10/dist-packages (from pandas) (2024.1)\n",
            "Requirement already satisfied: six>=1.5 in /usr/local/lib/python3.10/dist-packages (from python-dateutil>=2.8.2->pandas) (1.16.0)\n"
          ]
        }
      ],
      "source": [
        "import math\n",
        "print(math.sqrt(89))\n",
        "!pip install pandas"
      ]
    },
    {
      "cell_type": "code",
      "source": [
        "import pandas as pd\n",
        "import numpy as np\n",
        "import matplotlib as mtlb"
      ],
      "metadata": {
        "id": "jgIb_y1oyutQ"
      },
      "execution_count": 5,
      "outputs": []
    },
    {
      "cell_type": "code",
      "source": [
        "DataSet = {'Name': ['John', 'Bona', 'Aga', 'Chad', 'Caleb', 'Sol', 'Dani', 'Rica'], 'Age': [26, 18, 23, 40, 25, 12, 25, 38], 'Location': ['Manila', 'Makati', 'Cebu', 'Manila', 'Caloocan', 'Quezon City', 'Alabang', 'Laguna'], 'Occupation': ['Sales Rep', 'Analyst', 'Teacher', 'Sales Rep', 'Accountant', 'Student', 'Sales Rep', 'Business Owner']}\n",
        "df = pd.DataFrame(DataSet)\n",
        "print(df)"
      ],
      "metadata": {
        "colab": {
          "base_uri": "https://localhost:8080/"
        },
        "id": "4FYWTDeezM_q",
        "outputId": "d16cbf26-581d-4faf-d0d7-afca416765d5"
      },
      "execution_count": 9,
      "outputs": [
        {
          "output_type": "stream",
          "name": "stdout",
          "text": [
            "    Name  Age     Location      Occupation\n",
            "0   John   26       Manila       Sales Rep\n",
            "1   Bona   18       Makati         Analyst\n",
            "2    Aga   23         Cebu         Teacher\n",
            "3   Chad   40       Manila       Sales Rep\n",
            "4  Caleb   25     Caloocan      Accountant\n",
            "5    Sol   12  Quezon City         Student\n",
            "6   Dani   25      Alabang       Sales Rep\n",
            "7   Rica   38       Laguna  Business Owner\n"
          ]
        }
      ]
    }
  ]
}